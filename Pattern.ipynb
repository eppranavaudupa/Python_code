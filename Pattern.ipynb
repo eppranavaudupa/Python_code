{
 "cells": [
  {
   "cell_type": "code",
   "execution_count": 12,
   "metadata": {},
   "outputs": [
    {
     "name": "stdout",
     "output_type": "stream",
     "text": [
      " ******* \n",
      "  *****  \n",
      "   ***   \n",
      "    *    \n"
     ]
    }
   ],
   "source": [
    "n=9    \n",
    "for i in range(0,n//2):\n",
    "    for j in range(0,n):\n",
    "        if not(i+j>=n-1 or i-j>=0):\n",
    "            print(\"*\",end=\"\")\n",
    "        else:\n",
    "            print(\" \",end=\"\")\n",
    "    print()"
   ]
  },
  {
   "cell_type": "code",
   "execution_count": 69,
   "metadata": {},
   "outputs": [
    {
     "name": "stdout",
     "output_type": "stream",
     "text": [
      "                          \n",
      "            * *           \n",
      "          * * * *         \n",
      "        * * * * * *       \n",
      "      * * * * * * * *     \n",
      "    * * * * * * * * * *   \n",
      "  * * * * * * * * * * *   \n",
      "    * * * * * * * * *     \n",
      "      * * * * * * *       \n",
      "        * * * * *         \n",
      "          * * *           \n",
      "            *             \n",
      "                          \n"
     ]
    }
   ],
   "source": [
    "n=13\n",
    "for i in range(n):\n",
    "    for j in range(n):\n",
    "        if  not( (i-j<=-n//2 or i+j<=n//2)or (i+j>=3*n//2-1 or i-j>=n//2) ):\n",
    "            print(\"*\",end=\" \")\n",
    "        else:\n",
    "            print(\" \",end=\" \")\n",
    "    print()"
   ]
  },
  {
   "cell_type": "code",
   "execution_count": 11,
   "metadata": {},
   "outputs": [
    {
     "name": "stdout",
     "output_type": "stream",
     "text": [
      "     \n",
      "    *\n",
      "   **\n",
      "  ***\n",
      " ****\n",
      "  ***\n",
      "   **\n",
      "    *\n",
      "     \n"
     ]
    }
   ],
   "source": [
    "n=9\n",
    "for i in range(n):\n",
    "    for j in range(n//2,n):\n",
    "        if not (i-j>=0 or i+j<=n-1):\n",
    "            print(\"*\",end=\"\")\n",
    "        else:\n",
    "            print(\" \",end=\"\")\n",
    "    print()"
   ]
  },
  {
   "cell_type": "code",
   "execution_count": 91,
   "metadata": {},
   "outputs": [
    {
     "name": "stdout",
     "output_type": "stream",
     "text": [
      "  * *   \n",
      " *   *  \n",
      "*     * \n",
      "        \n"
     ]
    }
   ],
   "source": [
    "n=8\n",
    "for i in range(0,n//2):\n",
    "    for j in range(0,n):\n",
    "        if  ( (i+j==n//3 and i<=n//4)or (i-j==-n//2 and i<=n//3) ):\n",
    "            print(\"*\",end=\"\")\n",
    "        else:\n",
    "            print(\" \",end=\"\")\n",
    "    print()"
   ]
  },
  {
   "cell_type": "code",
   "execution_count": 109,
   "metadata": {},
   "outputs": [
    {
     "name": "stdout",
     "output_type": "stream",
     "text": [
      "          \n",
      "          \n",
      "   * *    \n",
      "  *   *   \n",
      " *     *  \n"
     ]
    }
   ],
   "source": [
    "n=10\n",
    "for i in range(n//2,n):\n",
    "    for j in range(n):\n",
    "\n",
    "        if ( (i+j==3*n//3 and i>=3*n//4)or (i-j==n//4 and i>=3*n//4)):\n",
    "            print(\"*\",end=\"\")\n",
    "        else:\n",
    "            print(\" \",end=\"\")\n",
    "    print()"
   ]
  },
  {
   "cell_type": "code",
   "execution_count": 134,
   "metadata": {},
   "outputs": [
    {
     "name": "stdout",
     "output_type": "stream",
     "text": [
      "**********\n",
      "****  ****\n",
      "***    ***\n",
      "**      **\n",
      "*        *\n"
     ]
    }
   ],
   "source": [
    "n=10\n",
    "for i in range(0,n//2):\n",
    "    for j in range(n):\n",
    "\n",
    "        if not((i+j>=n//2 ) and(i-j>=-n//3)):\n",
    "            print(\"*\",end=\"\")\n",
    "        else:\n",
    "            print(\" \",end=\"\")\n",
    "    print()"
   ]
  },
  {
   "cell_type": "code",
   "execution_count": 183,
   "metadata": {},
   "outputs": [
    {
     "name": "stdout",
     "output_type": "stream",
     "text": [
      "**********\n",
      "**********\n",
      "***** ****\n",
      "****   ***\n",
      "***     **\n"
     ]
    }
   ],
   "source": [
    "n=10\n",
    "for i in range(0,n//2):\n",
    "    for j in range(n):\n",
    "\n",
    "\n",
    "        if not(i-j>=-n//4 and i+j>=3*(n)//4):\n",
    "            print(\"*\",end=\"\")\n",
    "        else:\n",
    "            print(\" \",end=\"\")\n",
    "    print()"
   ]
  },
  {
   "cell_type": "code",
   "execution_count": 218,
   "metadata": {},
   "outputs": [
    {
     "name": "stdout",
     "output_type": "stream",
     "text": [
      "*        *\n",
      "**      **\n",
      "***    ***\n",
      "****  ****\n",
      "**********\n",
      "**********\n",
      "****  ****\n",
      "***    ***\n",
      "**      **\n",
      "*        *\n"
     ]
    }
   ],
   "source": [
    "n=10\n",
    "for i in range(0,n):\n",
    "    for j in range(n):\n",
    "\n",
    "\n",
    "        if ( (i+j>=n-1 and i-j<=0)or( i-j>=0 and i+j<=n-1 )):\n",
    "            print(\"*\",end=\"\")\n",
    "        else:\n",
    "            print(\" \",end=\"\")\n",
    "    print()"
   ]
  }
 ],
 "metadata": {
  "kernelspec": {
   "display_name": "Python 3",
   "language": "python",
   "name": "python3"
  },
  "language_info": {
   "codemirror_mode": {
    "name": "ipython",
    "version": 3
   },
   "file_extension": ".py",
   "mimetype": "text/x-python",
   "name": "python",
   "nbconvert_exporter": "python",
   "pygments_lexer": "ipython3",
   "version": "3.10.12"
  }
 },
 "nbformat": 4,
 "nbformat_minor": 2
}
